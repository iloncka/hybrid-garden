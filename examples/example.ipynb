{
 "cells": [
  {
   "cell_type": "code",
   "execution_count": 2,
   "metadata": {},
   "outputs": [
    {
     "name": "stdout",
     "output_type": "stream",
     "text": [
      "Working directory: /home/iloncka/HybridGarden\n",
      "Models directory: /home/iloncka/HybridGarden/models\n",
      "Metadata directory: /home/iloncka/HybridGarden/metadata\n",
      "Reports directory: /home/iloncka/HybridGarden/reports\n"
     ]
    }
   ],
   "source": [
    "from hg.hg import HybridGarden"
   ]
  },
  {
   "cell_type": "code",
   "execution_count": 3,
   "metadata": {},
   "outputs": [],
   "source": [
    "import pmlb\n",
    "from sklearn.model_selection import train_test_split"
   ]
  },
  {
   "cell_type": "code",
   "execution_count": 4,
   "metadata": {},
   "outputs": [],
   "source": [
    "X, y = pmlb.fetch_data('wine_recognition', return_X_y=True, local_cache_dir='./')\n",
    "X, X_test, y, y_test = train_test_split(\n",
    "     X, y, test_size=0.2, random_state=42)"
   ]
  },
  {
   "cell_type": "code",
   "execution_count": 5,
   "metadata": {},
   "outputs": [],
   "source": [
    "clf = HybridGarden(num_generations=1)"
   ]
  },
  {
   "cell_type": "code",
   "execution_count": 6,
   "metadata": {},
   "outputs": [
    {
     "name": "stdout",
     "output_type": "stream",
     "text": [
      "['roc_auc_ovo', 'precision_weighted', 'recall_weighted']\n",
      "'Fitness metric: roc_auc_ovo'\n",
      "('Start fitness score for DecisionTreeClassifier: [0.94444444 0.95138889 '\n",
      " '0.92329545 0.94949495 0.94602273]')\n",
      "(\"Initial scores:{'fit_time': array([0.00189805, 0.00151849, 0.00155544, \"\n",
      " \"0.00141835, 0.00155044]), 'score_time': array([0.01229882, 0.01462913, \"\n",
      " \"0.01461554, 0.00939393, 0.0090909 ]), 'test_roc_auc_ovo': array([0.94444444, \"\n",
      " \"0.95138889, 0.92329545, 0.94949495, 0.94602273]), 'train_roc_auc_ovo': \"\n",
      " \"array([1., 1., 1., 1., 1.]), 'test_precision_weighted': array([0.9408867 , \"\n",
      " '0.93103448, 0.89285714, 0.93253968, 0.92857143]), '\n",
      " \"'train_precision_weighted': array([1., 1., 1., 1., 1.]), \"\n",
      " \"'test_recall_weighted': array([0.93103448, 0.93103448, 0.89285714, \"\n",
      " \"0.92857143, 0.92857143]), 'train_recall_weighted': array([1., 1., 1., 1., \"\n",
      " '1.])}')\n",
      "Task: classification\n",
      "For evolution selected model DecisionTreeClassifier with score [0.94444444 0.95138889 0.92329545 0.94949495 0.94602273]\n",
      "Current experiment: dry-transpose-27-05-22\n",
      "Generation :  1\n",
      "Fitness value of the best solution = 0.9677328843995511\n",
      "Fitness value of the best solution = 0.9677328843995511\n",
      "Index of the best solution : 3\n",
      "--- 38.37538027763367 seconds ---\n"
     ]
    },
    {
     "data": {
      "image/png": "[encoded data removed]",
      "text/plain": [
       "<Figure size 432x288 with 1 Axes>"
      ]
     },
     "metadata": {
      "needs_background": "light"
     },
     "output_type": "display_data"
    },
    {
     "name": "stdout",
     "output_type": "stream",
     "text": [
      "Number of generations passed is 1\n"
     ]
    }
   ],
   "source": [
    "clf.fit(X, y)"
   ]
  },
  {
   "cell_type": "code",
   "execution_count": 8,
   "metadata": {},
   "outputs": [
    {
     "name": "stdout",
     "output_type": "stream",
     "text": [
      "(DecisionTreeClassifier(criterion='entropy', max_depth=4, max_features=0.5,\n",
      "                       min_impurity_decrease=0.1, random_state=4579),\n",
      " {'current_run_id': 'dry-transpose-27-05-22',\n",
      "  'file_path': '/home/iloncka/HybridGarden/models/dry-transpose-27-05-22/DecisionTreeClassifier_0.97_afceb98d0bba4bab9fb2b3fed7b67014.pickle',\n",
      "  'fitness': 0.9677328843995511,\n",
      "  'gen_idx': 3,\n",
      "  'model_id': 'afceb98d0bba4bab9fb2b3fed7b67014',\n",
      "  'model_name': 'DecisionTreeClassifier',\n",
      "  'scores': {'fit_time': array([0.00265408, 0.00334263, 0.00297666, 0.0021019 , 0.00146317]),\n",
      "             'score_time': array([0.01124358, 0.01224303, 0.0113833 , 0.00944853, 0.00665689]),\n",
      "             'test_precision_weighted': array([1.        , 0.89724835, 0.92857143, 0.93253968, 1.        ]),\n",
      "             'test_recall_weighted': array([1.        , 0.89655172, 0.92857143, 0.92857143, 1.        ]),\n",
      "             'test_roc_auc_ovo': array([1.        , 0.94135802, 0.95454545, 0.94276094, 1.        ]),\n",
      "             'train_precision_weighted': array([0.97429133, 0.95663958, 0.98272196, 0.95991494, 0.97452127]),\n",
      "             'train_recall_weighted': array([0.97345133, 0.95575221, 0.98245614, 0.95614035, 0.97368421]),\n",
      "             'train_roc_auc_ovo': array([0.98868313, 0.97355967, 0.99245169, 0.97826087, 0.9888285 ])},\n",
      "  'selected_features': [1, 2, 3, 6, 7, 9, 10, 11, 12],\n",
      "  'solution': array([ 1,  2,  0,  3,  9,  1,  6,  2,  3,  7,  9,  6, 10, 12, 12, 11,  1],\n",
      "      dtype=int8),\n",
      "  'solution_idx': 3})\n"
     ]
    }
   ],
   "source": [
    "from pprint import pprint\n",
    "pprint(clf.trees[0])"
   ]
  },
  {
   "cell_type": "code",
   "execution_count": 9,
   "metadata": {},
   "outputs": [],
   "source": [
    "y_pred = clf.predict(X)"
   ]
  },
  {
   "cell_type": "code",
   "execution_count": 10,
   "metadata": {},
   "outputs": [],
   "source": [
    "y_pred_proba = clf.predict_proba(X)"
   ]
  }
 ],
 "metadata": {
  "interpreter": {
   "hash": "d6da42508cfa19c1f73b9aad0e5538c771f131e531549949f067cf9e62175920"
  },
  "kernelspec": {
   "display_name": "Python 3.8.10 ('hybrid-garden-E-X_csZt-py3.8')",
   "language": "python",
   "name": "python3"
  },
  "language_info": {
   "codemirror_mode": {
    "name": "ipython",
    "version": 3
   },
   "file_extension": ".py",
   "mimetype": "text/x-python",
   "name": "python",
   "nbconvert_exporter": "python",
   "pygments_lexer": "ipython3",
   "version": "3.8.10"
  },
  "orig_nbformat": 4
 },
 "nbformat": 4,
 "nbformat_minor": 2
}
